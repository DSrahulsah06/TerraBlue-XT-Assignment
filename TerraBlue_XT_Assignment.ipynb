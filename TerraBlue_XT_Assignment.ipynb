{
  "nbformat": 4,
  "nbformat_minor": 0,
  "metadata": {
    "colab": {
      "name": "TerraBlue XT Assignment.ipynb",
      "provenance": [],
      "collapsed_sections": [],
      "include_colab_link": true
    },
    "kernelspec": {
      "name": "python3",
      "display_name": "Python 3"
    }
  },
  "cells": [
    {
      "cell_type": "markdown",
      "metadata": {
        "id": "view-in-github",
        "colab_type": "text"
      },
      "source": [
        "<a href=\"https://colab.research.google.com/github/DSrahulsah06/TerraBlue-XT-Assignment/blob/master/TerraBlue_XT_Assignment.ipynb\" target=\"_parent\"><img src=\"https://colab.research.google.com/assets/colab-badge.svg\" alt=\"Open In Colab\"/></a>"
      ]
    },
    {
      "cell_type": "code",
      "metadata": {
        "id": "a3hZFacT7eVL",
        "colab_type": "code",
        "outputId": "bf1e8e48-5757-4a3c-ba43-7d2bdf0fadd3",
        "colab": {
          "base_uri": "https://localhost:8080/",
          "height": 34
        }
      },
      "source": [
        "from google.colab import drive\n",
        "drive.mount ('/content/gdrive')"
      ],
      "execution_count": 0,
      "outputs": [
        {
          "output_type": "stream",
          "text": [
            "Drive already mounted at /content/gdrive; to attempt to forcibly remount, call drive.mount(\"/content/gdrive\", force_remount=True).\n"
          ],
          "name": "stdout"
        }
      ]
    },
    {
      "cell_type": "markdown",
      "metadata": {
        "id": "x1dA4OHf7_V1",
        "colab_type": "text"
      },
      "source": [
        "Problem 1 - 1. Write a program which accepts a sequence of comma separated 4 digit binary numbers as its input and then check whether they are divisible by 5 or not. The numbers that are divisible by 5 are to be printed in a comma separated sequence."
      ]
    },
    {
      "cell_type": "code",
      "metadata": {
        "id": "uguCBlbH7x2b",
        "colab_type": "code",
        "outputId": "86748116-5b3a-49f3-ee60-e370f88c763b",
        "colab": {
          "base_uri": "https://localhost:8080/",
          "height": 50
        }
      },
      "source": [
        "digits = []\n",
        "values = [ x for x in input().split(',') ]\n",
        "for i in values:\n",
        "  inti = int(i,2)\n",
        "  if not inti%5:\n",
        "    digits.append(i)\n",
        "print(','.join(digits))\n"
      ],
      "execution_count": 0,
      "outputs": [
        {
          "output_type": "stream",
          "text": [
            "0101,1010,0001,1110\n",
            "0101,1010\n"
          ],
          "name": "stdout"
        }
      ]
    },
    {
      "cell_type": "markdown",
      "metadata": {
        "id": "HcXVUs5MBXWv",
        "colab_type": "text"
      },
      "source": [
        "Problem 2 - A website requires the users to input username and password to register. Write a program to check the validity of password input by users.\n",
        "Following are the criteria for checking the password:\n",
        "1. At least 1 letter between [a-z]\n",
        "2. At least 1 number between [0-9]\n",
        "1. At least 1 letter between [A-Z]\n",
        "3. At least 1 character from [$#@]\n",
        "4. Minimum length of transaction password: 6\n",
        "5. Maximum length of transaction password: 12\n",
        "Your program should accept a sequence of comma separated passwords and will check them according to the above criteria. Passwords that match the criteria are to be printed, each separated by a comma. "
      ]
    },
    {
      "cell_type": "code",
      "metadata": {
        "id": "se2iWe6p9HPc",
        "colab_type": "code",
        "colab": {}
      },
      "source": [
        "import re"
      ],
      "execution_count": 0,
      "outputs": []
    },
    {
      "cell_type": "code",
      "metadata": {
        "id": "IIpsb3ilCUWJ",
        "colab_type": "code",
        "outputId": "65cd2e63-01f5-48ea-da90-714cf1866540",
        "colab": {
          "base_uri": "https://localhost:8080/",
          "height": 50
        }
      },
      "source": [
        "enter_the_password= input(\"Please enter the password \")\n",
        "z = True\n",
        "while z:  \n",
        "    if (len(enter_the_password)<6 or len(enter_the_password)>12):\n",
        "        break\n",
        "    elif not re.search(\"[a-z]\",enter_the_password):\n",
        "        break\n",
        "    elif not re.search(\"[0-9]\",enter_the_password):\n",
        "        break\n",
        "    elif not re.search(\"[A-Z]\",enter_the_password):\n",
        "        break\n",
        "    elif not re.search(\"[$#@]\",enter_the_password):\n",
        "        break\n",
        "    else:\n",
        "        print(\"The password entered is valid\")\n",
        "        z=False\n",
        "        break\n",
        "\n",
        "if z:\n",
        "    print(\"The password entered is not valid\")"
      ],
      "execution_count": 0,
      "outputs": [
        {
          "output_type": "stream",
          "text": [
            "Please enter the password randoM@1234\n",
            "The password entered is valid\n"
          ],
          "name": "stdout"
        }
      ]
    },
    {
      "cell_type": "markdown",
      "metadata": {
        "id": "dZliDtHiK1BC",
        "colab_type": "text"
      },
      "source": [
        "Problem 3 - You are required to write a program to sort the (name, age, height) tuples by ascending order where name is string, age and height are numbers. The tuples are input by console. The sort criteria is:\n",
        "1. Sort based on name;\n",
        "2. Then sort based on age;\n",
        "3. Then sort by score.\n",
        "The priority is that name > age > score.\n",
        "If the following tuples are given as input to the program:\n",
        "Tom,19,80\n",
        "John,20,90\n",
        "Jony,17,91\n",
        "Jony,17,93\n",
        "Json,21,85\n",
        "Then, the output of the program should be:\n",
        "[('John', '20', '90'), ('Jony', '17', '91'), ('Jony', '17', '93'), ('Json', '21', '85'), ('Tom', '19', '80')]"
      ]
    },
    {
      "cell_type": "code",
      "metadata": {
        "id": "WiiS9hWCM8pt",
        "colab_type": "code",
        "outputId": "31a4c116-c7a7-4a61-eead-a95e647aa9b2",
        "colab": {
          "base_uri": "https://localhost:8080/",
          "height": 50
        }
      },
      "source": [
        "people_info = input()\n",
        "people_list = [case.split(',') for case in people_info.split(' ')] \n",
        "print(sorted(people_list))"
      ],
      "execution_count": 0,
      "outputs": [
        {
          "output_type": "stream",
          "text": [
            "Tom,19,80 John,20,90 Jony,17,91 Jony,17,93 Json,21,85\n",
            "[['John', '20', '90'], ['Jony', '17', '91'], ['Jony', '17', '93'], ['Json', '21', '85'], ['Tom', '19', '80']]\n"
          ],
          "name": "stdout"
        }
      ]
    },
    {
      "cell_type": "code",
      "metadata": {
        "id": "yc5r5FVcP1Cl",
        "colab_type": "code",
        "colab": {}
      },
      "source": [
        ""
      ],
      "execution_count": 0,
      "outputs": []
    }
  ]
}